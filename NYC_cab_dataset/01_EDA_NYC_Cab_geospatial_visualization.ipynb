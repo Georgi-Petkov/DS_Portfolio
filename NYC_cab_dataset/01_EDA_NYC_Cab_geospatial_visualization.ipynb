{
 "cells": [
  {
   "cell_type": "markdown",
   "metadata": {},
   "source": [
    "# Geospatial Visualization of NYC Cab Rides"
   ]
  },
  {
   "cell_type": "markdown",
   "metadata": {},
   "source": [
    "Updated May 13, 2020\n",
    "\n",
    "This notebook showcases geospatial visualization I did using dataset from the New York City Trip Duration Kaggle competition. The goal of this project is to predict the trip duration of each ride.\n",
    "\n",
    "The output of this notebook was a gif file showing heatmaps of all NYC cab rides in the dataset (Jan-June 2016) by hour from Mondays to Sundays. Here is the end result shown below!\n",
    "\n",
    "![Time-lapsed Heatmap of Cab Rides in NYC](./img/nyc_cab_rides_heatmap.gif)"
   ]
  },
  {
   "cell_type": "markdown",
   "metadata": {},
   "source": [
    "__Steps to Making the Magic Happen:__\n",
    "- I did some data preprocessing and used the `FeaturizeTime` class outlined in the `02_Modeling_NYC_Cab` file to get the hour and day of week for all entries in my training set. \n",
    "- Used folium package to plot heatmaps of lat/long coordinates by time and day of week and saved these heatmaps in .html format\n",
    "- Used selenium to open .html files in chronological order and take screenshots of every heatmap to save as .png format\n",
    "- Defined function to animate .png files as .gifs, and stitched .png files together to create the .gif file shown above!\n",
    "\n"
   ]
  },
  {
   "cell_type": "markdown",
   "metadata": {},
   "source": [
    "## Import Packages"
   ]
  },
  {
   "cell_type": "code",
   "execution_count": 25,
   "metadata": {
    "ExecuteTime": {
     "end_time": "2020-05-16T03:32:18.964546Z",
     "start_time": "2020-05-16T03:32:12.483775Z"
    }
   },
   "outputs": [],
   "source": [
    "import pandas as pd\n",
    "import numpy as np\n",
    "import time \n",
    "\n",
    "import folium\n",
    "from folium.plugins import HeatMap\n",
    "from IPython.display import IFrame\n",
    "\n",
    "import os\n",
    "import time\n",
    "from selenium import webdriver\n",
    "from PIL import Image \n",
    "import glob\n"
   ]
  },
  {
   "cell_type": "markdown",
   "metadata": {},
   "source": [
    "This is from the New York City Trip Duration Kaggle competition from 2017 where the goal of this project is to predict the trip duration of each ride. The target label is `trip_duration`. "
   ]
  },
  {
   "cell_type": "markdown",
   "metadata": {},
   "source": [
    "## Import file"
   ]
  },
  {
   "cell_type": "code",
   "execution_count": 9,
   "metadata": {
    "ExecuteTime": {
     "end_time": "2020-05-16T03:34:22.995809Z",
     "start_time": "2020-05-16T03:34:19.679193Z"
    }
   },
   "outputs": [],
   "source": [
    "df_train = pd.read_csv('./data_nyc/train.csv')"
   ]
  },
  {
   "cell_type": "code",
   "execution_count": 10,
   "metadata": {
    "ExecuteTime": {
     "end_time": "2020-05-16T03:34:23.085481Z",
     "start_time": "2020-05-16T03:34:23.071804Z"
    },
    "scrolled": true
   },
   "outputs": [
    {
     "data": {
      "text/html": [
       "<div>\n",
       "<style scoped>\n",
       "    .dataframe tbody tr th:only-of-type {\n",
       "        vertical-align: middle;\n",
       "    }\n",
       "\n",
       "    .dataframe tbody tr th {\n",
       "        vertical-align: top;\n",
       "    }\n",
       "\n",
       "    .dataframe thead th {\n",
       "        text-align: right;\n",
       "    }\n",
       "</style>\n",
       "<table border=\"1\" class=\"dataframe\">\n",
       "  <thead>\n",
       "    <tr style=\"text-align: right;\">\n",
       "      <th></th>\n",
       "      <th>id</th>\n",
       "      <th>vendor_id</th>\n",
       "      <th>pickup_datetime</th>\n",
       "      <th>dropoff_datetime</th>\n",
       "      <th>passenger_count</th>\n",
       "      <th>pickup_longitude</th>\n",
       "      <th>pickup_latitude</th>\n",
       "      <th>dropoff_longitude</th>\n",
       "      <th>dropoff_latitude</th>\n",
       "      <th>store_and_fwd_flag</th>\n",
       "      <th>trip_duration</th>\n",
       "    </tr>\n",
       "  </thead>\n",
       "  <tbody>\n",
       "    <tr>\n",
       "      <th>0</th>\n",
       "      <td>id2875421</td>\n",
       "      <td>2</td>\n",
       "      <td>2016-03-14 17:24:55</td>\n",
       "      <td>2016-03-14 17:32:30</td>\n",
       "      <td>1</td>\n",
       "      <td>-73.982155</td>\n",
       "      <td>40.767937</td>\n",
       "      <td>-73.964630</td>\n",
       "      <td>40.765602</td>\n",
       "      <td>N</td>\n",
       "      <td>455</td>\n",
       "    </tr>\n",
       "    <tr>\n",
       "      <th>1</th>\n",
       "      <td>id2377394</td>\n",
       "      <td>1</td>\n",
       "      <td>2016-06-12 00:43:35</td>\n",
       "      <td>2016-06-12 00:54:38</td>\n",
       "      <td>1</td>\n",
       "      <td>-73.980415</td>\n",
       "      <td>40.738564</td>\n",
       "      <td>-73.999481</td>\n",
       "      <td>40.731152</td>\n",
       "      <td>N</td>\n",
       "      <td>663</td>\n",
       "    </tr>\n",
       "    <tr>\n",
       "      <th>2</th>\n",
       "      <td>id3858529</td>\n",
       "      <td>2</td>\n",
       "      <td>2016-01-19 11:35:24</td>\n",
       "      <td>2016-01-19 12:10:48</td>\n",
       "      <td>1</td>\n",
       "      <td>-73.979027</td>\n",
       "      <td>40.763939</td>\n",
       "      <td>-74.005333</td>\n",
       "      <td>40.710087</td>\n",
       "      <td>N</td>\n",
       "      <td>2124</td>\n",
       "    </tr>\n",
       "    <tr>\n",
       "      <th>3</th>\n",
       "      <td>id3504673</td>\n",
       "      <td>2</td>\n",
       "      <td>2016-04-06 19:32:31</td>\n",
       "      <td>2016-04-06 19:39:40</td>\n",
       "      <td>1</td>\n",
       "      <td>-74.010040</td>\n",
       "      <td>40.719971</td>\n",
       "      <td>-74.012268</td>\n",
       "      <td>40.706718</td>\n",
       "      <td>N</td>\n",
       "      <td>429</td>\n",
       "    </tr>\n",
       "    <tr>\n",
       "      <th>4</th>\n",
       "      <td>id2181028</td>\n",
       "      <td>2</td>\n",
       "      <td>2016-03-26 13:30:55</td>\n",
       "      <td>2016-03-26 13:38:10</td>\n",
       "      <td>1</td>\n",
       "      <td>-73.973053</td>\n",
       "      <td>40.793209</td>\n",
       "      <td>-73.972923</td>\n",
       "      <td>40.782520</td>\n",
       "      <td>N</td>\n",
       "      <td>435</td>\n",
       "    </tr>\n",
       "  </tbody>\n",
       "</table>\n",
       "</div>"
      ],
      "text/plain": [
       "          id  vendor_id      pickup_datetime     dropoff_datetime  \\\n",
       "0  id2875421          2  2016-03-14 17:24:55  2016-03-14 17:32:30   \n",
       "1  id2377394          1  2016-06-12 00:43:35  2016-06-12 00:54:38   \n",
       "2  id3858529          2  2016-01-19 11:35:24  2016-01-19 12:10:48   \n",
       "3  id3504673          2  2016-04-06 19:32:31  2016-04-06 19:39:40   \n",
       "4  id2181028          2  2016-03-26 13:30:55  2016-03-26 13:38:10   \n",
       "\n",
       "   passenger_count  pickup_longitude  pickup_latitude  dropoff_longitude  \\\n",
       "0                1        -73.982155        40.767937         -73.964630   \n",
       "1                1        -73.980415        40.738564         -73.999481   \n",
       "2                1        -73.979027        40.763939         -74.005333   \n",
       "3                1        -74.010040        40.719971         -74.012268   \n",
       "4                1        -73.973053        40.793209         -73.972923   \n",
       "\n",
       "   dropoff_latitude store_and_fwd_flag  trip_duration  \n",
       "0         40.765602                  N            455  \n",
       "1         40.731152                  N            663  \n",
       "2         40.710087                  N           2124  \n",
       "3         40.706718                  N            429  \n",
       "4         40.782520                  N            435  "
      ]
     },
     "execution_count": 10,
     "metadata": {},
     "output_type": "execute_result"
    }
   ],
   "source": [
    "df_train.head()"
   ]
  },
  {
   "cell_type": "code",
   "execution_count": 12,
   "metadata": {
    "ExecuteTime": {
     "end_time": "2020-05-16T03:35:47.371324Z",
     "start_time": "2020-05-16T03:35:46.718744Z"
    }
   },
   "outputs": [],
   "source": [
    "df = df_train[['pickup_datetime', 'pickup_longitude', 'pickup_latitude']].copy()\n",
    "df['day_of_week'] = pd.to_datetime(df['pickup_datetime']).dt.dayofweek\n",
    "df['hour_of_day'] = pd.to_datetime(df['pickup_datetime']).dt.hour"
   ]
  },
  {
   "cell_type": "code",
   "execution_count": 13,
   "metadata": {
    "ExecuteTime": {
     "end_time": "2020-05-16T03:35:50.931247Z",
     "start_time": "2020-05-16T03:35:50.916821Z"
    }
   },
   "outputs": [
    {
     "data": {
      "text/html": [
       "<div>\n",
       "<style scoped>\n",
       "    .dataframe tbody tr th:only-of-type {\n",
       "        vertical-align: middle;\n",
       "    }\n",
       "\n",
       "    .dataframe tbody tr th {\n",
       "        vertical-align: top;\n",
       "    }\n",
       "\n",
       "    .dataframe thead th {\n",
       "        text-align: right;\n",
       "    }\n",
       "</style>\n",
       "<table border=\"1\" class=\"dataframe\">\n",
       "  <thead>\n",
       "    <tr style=\"text-align: right;\">\n",
       "      <th></th>\n",
       "      <th>pickup_datetime</th>\n",
       "      <th>pickup_longitude</th>\n",
       "      <th>pickup_latitude</th>\n",
       "      <th>day_of_week</th>\n",
       "      <th>hour_of_day</th>\n",
       "    </tr>\n",
       "  </thead>\n",
       "  <tbody>\n",
       "    <tr>\n",
       "      <th>0</th>\n",
       "      <td>2016-03-14 17:24:55</td>\n",
       "      <td>-73.982155</td>\n",
       "      <td>40.767937</td>\n",
       "      <td>0</td>\n",
       "      <td>17</td>\n",
       "    </tr>\n",
       "    <tr>\n",
       "      <th>1</th>\n",
       "      <td>2016-06-12 00:43:35</td>\n",
       "      <td>-73.980415</td>\n",
       "      <td>40.738564</td>\n",
       "      <td>6</td>\n",
       "      <td>0</td>\n",
       "    </tr>\n",
       "    <tr>\n",
       "      <th>2</th>\n",
       "      <td>2016-01-19 11:35:24</td>\n",
       "      <td>-73.979027</td>\n",
       "      <td>40.763939</td>\n",
       "      <td>1</td>\n",
       "      <td>11</td>\n",
       "    </tr>\n",
       "    <tr>\n",
       "      <th>3</th>\n",
       "      <td>2016-04-06 19:32:31</td>\n",
       "      <td>-74.010040</td>\n",
       "      <td>40.719971</td>\n",
       "      <td>2</td>\n",
       "      <td>19</td>\n",
       "    </tr>\n",
       "    <tr>\n",
       "      <th>4</th>\n",
       "      <td>2016-03-26 13:30:55</td>\n",
       "      <td>-73.973053</td>\n",
       "      <td>40.793209</td>\n",
       "      <td>5</td>\n",
       "      <td>13</td>\n",
       "    </tr>\n",
       "  </tbody>\n",
       "</table>\n",
       "</div>"
      ],
      "text/plain": [
       "       pickup_datetime  pickup_longitude  pickup_latitude  day_of_week  \\\n",
       "0  2016-03-14 17:24:55        -73.982155        40.767937            0   \n",
       "1  2016-06-12 00:43:35        -73.980415        40.738564            6   \n",
       "2  2016-01-19 11:35:24        -73.979027        40.763939            1   \n",
       "3  2016-04-06 19:32:31        -74.010040        40.719971            2   \n",
       "4  2016-03-26 13:30:55        -73.973053        40.793209            5   \n",
       "\n",
       "   hour_of_day  \n",
       "0           17  \n",
       "1            0  \n",
       "2           11  \n",
       "3           19  \n",
       "4           13  "
      ]
     },
     "execution_count": 13,
     "metadata": {},
     "output_type": "execute_result"
    }
   ],
   "source": [
    "df.head()"
   ]
  },
  {
   "cell_type": "markdown",
   "metadata": {},
   "source": [
    "## Plot Heatmaps of Latitude and Longitude Coordinates"
   ]
  },
  {
   "cell_type": "code",
   "execution_count": 14,
   "metadata": {
    "code_folding": []
   },
   "outputs": [],
   "source": [
    "# Function to visualize map\n",
    "def embed_map(map, filename):\n",
    "    map.save(filename)\n",
    "    return IFrame(filename, width='100%', height='500px')"
   ]
  },
  {
   "cell_type": "markdown",
   "metadata": {},
   "source": [
    "### Plot heatmap of lat/long coordinates by hour and day of week"
   ]
  },
  {
   "cell_type": "code",
   "execution_count": 22,
   "metadata": {},
   "outputs": [],
   "source": [
    "dow_dict = {0:'Monday', 1:'Tuesday', 2:'Wednesday', 3:'Thursday', 4:'Friday', 5:'Saturday', 6:'Sunday'}"
   ]
  },
  {
   "cell_type": "code",
   "execution_count": 284,
   "metadata": {
    "ExecuteTime": {
     "end_time": "2020-05-04T23:22:23.703789Z",
     "start_time": "2020-05-04T23:22:01.457722Z"
    }
   },
   "outputs": [
    {
     "name": "stdout",
     "output_type": "stream",
     "text": [
      "(3215, 2)\n",
      "(1931, 2)\n",
      "(1222, 2)\n",
      "(903, 2)\n",
      "(1005, 2)\n",
      "(1593, 2)\n",
      "(4029, 2)\n",
      "(6494, 2)\n",
      "(7748, 2)\n",
      "(7554, 2)\n",
      "(6465, 2)\n",
      "(6561, 2)\n",
      "(6826, 2)\n",
      "(6782, 2)\n",
      "(7471, 2)\n",
      "(7477, 2)\n",
      "(6792, 2)\n",
      "(8126, 2)\n",
      "(9762, 2)\n",
      "(9182, 2)\n",
      "(8511, 2)\n",
      "(8417, 2)\n",
      "(7159, 2)\n",
      "(5256, 2)\n",
      "(3380, 2)\n",
      "(1982, 2)\n",
      "(1097, 2)\n",
      "(744, 2)\n",
      "(856, 2)\n",
      "(1605, 2)\n",
      "(4325, 2)\n",
      "(7560, 2)\n",
      "(8639, 2)\n",
      "(8176, 2)\n",
      "(7022, 2)\n",
      "(7399, 2)\n",
      "(7271, 2)\n",
      "(7402, 2)\n",
      "(7923, 2)\n",
      "(7598, 2)\n",
      "(6638, 2)\n",
      "(8373, 2)\n",
      "(10099, 2)\n",
      "(9803, 2)\n",
      "(9605, 2)\n",
      "(9476, 2)\n",
      "(8660, 2)\n",
      "(6444, 2)\n",
      "(3995, 2)\n",
      "(2295, 2)\n",
      "(1426, 2)\n",
      "(950, 2)\n",
      "(913, 2)\n",
      "(1565, 2)\n",
      "(4337, 2)\n",
      "(7734, 2)\n",
      "(8888, 2)\n",
      "(8193, 2)\n",
      "(7198, 2)\n",
      "(7411, 2)\n",
      "(7842, 2)\n",
      "(7561, 2)\n",
      "(7873, 2)\n",
      "(7499, 2)\n",
      "(6510, 2)\n",
      "(8163, 2)\n",
      "(9908, 2)\n",
      "(10332, 2)\n",
      "(9910, 2)\n",
      "(10023, 2)\n",
      "(9255, 2)\n",
      "(7239, 2)\n",
      "(4732, 2)\n",
      "(2730, 2)\n",
      "(1603, 2)\n",
      "(1162, 2)\n",
      "(1041, 2)\n",
      "(1649, 2)\n",
      "(4567, 2)\n",
      "(7857, 2)\n",
      "(8904, 2)\n",
      "(8193, 2)\n",
      "(7502, 2)\n",
      "(7523, 2)\n",
      "(7922, 2)\n",
      "(7756, 2)\n",
      "(8149, 2)\n",
      "(7856, 2)\n",
      "(6591, 2)\n",
      "(8068, 2)\n",
      "(10208, 2)\n",
      "(10553, 2)\n",
      "(10296, 2)\n",
      "(10615, 2)\n",
      "(10198, 2)\n",
      "(8772, 2)\n",
      "(6669, 2)\n",
      "(4364, 2)\n",
      "(2956, 2)\n",
      "(2134, 2)\n",
      "(1729, 2)\n",
      "(1826, 2)\n",
      "(4151, 2)\n",
      "(7251, 2)\n",
      "(8583, 2)\n",
      "(7986, 2)\n",
      "(7165, 2)\n",
      "(7195, 2)\n",
      "(7709, 2)\n",
      "(7558, 2)\n",
      "(8159, 2)\n",
      "(7726, 2)\n",
      "(6563, 2)\n",
      "(8250, 2)\n",
      "(10001, 2)\n",
      "(10576, 2)\n",
      "(9592, 2)\n",
      "(9466, 2)\n",
      "(9991, 2)\n",
      "(9879, 2)\n",
      "(8791, 2)\n",
      "(7378, 2)\n",
      "(6204, 2)\n",
      "(4579, 2)\n",
      "(2947, 2)\n",
      "(1537, 2)\n",
      "(1916, 2)\n",
      "(2807, 2)\n",
      "(4109, 2)\n",
      "(5903, 2)\n",
      "(7025, 2)\n",
      "(7704, 2)\n",
      "(8444, 2)\n",
      "(8513, 2)\n",
      "(8157, 2)\n",
      "(8091, 2)\n",
      "(7487, 2)\n",
      "(8409, 2)\n",
      "(9678, 2)\n",
      "(9731, 2)\n",
      "(8514, 2)\n",
      "(8548, 2)\n",
      "(9309, 2)\n",
      "(9876, 2)\n",
      "(9280, 2)\n",
      "(8145, 2)\n",
      "(6413, 2)\n",
      "(5123, 2)\n",
      "(3379, 2)\n",
      "(1481, 2)\n",
      "(1639, 2)\n",
      "(2159, 2)\n",
      "(3244, 2)\n",
      "(4755, 2)\n",
      "(6533, 2)\n",
      "(7514, 2)\n",
      "(7941, 2)\n",
      "(8003, 2)\n",
      "(7970, 2)\n",
      "(7683, 2)\n",
      "(7407, 2)\n",
      "(7984, 2)\n",
      "(8414, 2)\n",
      "(7569, 2)\n",
      "(6841, 2)\n",
      "(6618, 2)\n",
      "(5955, 2)\n",
      "(4772, 2)\n"
     ]
    }
   ],
   "source": [
    "for i in range(df.day_of_week.min(), df.day_of_week.max()+1):\n",
    "    for j in range(df.hour_of_day.min(), df.hour_of_day.max()+1):    \n",
    "        \n",
    "        # Filter to include only data for each day of week and hour of day\n",
    "        df_geo = df.loc[(df.day_of_week==i) & (df.hour_of_day==j)][['pickup_latitude', 'pickup_longitude']].copy()\n",
    "        print(df_geo.shape)\n",
    "\n",
    "        # Instantiate map object \n",
    "        map_5 = folium.Map(location=[40.75, -73.96], tiles='openstreetmap', zoom_start=12)\n",
    "\n",
    "        # Plot heatmap\n",
    "        HeatMap(data=df_geo, radius=10).add_to(map_5)\n",
    "\n",
    "        # Get day of week string from dow_dict\n",
    "        d = dow_dict.get(i)\n",
    "        \n",
    "        # Add title to heatmap\n",
    "        title_html = f'''<h3 align=\"center\" style=\"font-size:20px\">\n",
    "                        <b>NYC Cab Pickups at {j}:00 on {d}: {len(df_geo)} rides</b></h3>\n",
    "                     '''\n",
    "        map_5.get_root().html.add_child(folium.Element(title_html))\n",
    "\n",
    "        # Save map\n",
    "        embed_map(map_5, f'./html_maps_pickup/{i}_{j}_heatmap.html')"
   ]
  },
  {
   "cell_type": "markdown",
   "metadata": {},
   "source": [
    "## Automate Screenshots of heatmap files using selenium"
   ]
  },
  {
   "cell_type": "code",
   "execution_count": 286,
   "metadata": {
    "ExecuteTime": {
     "end_time": "2020-05-04T23:37:03.611806Z",
     "start_time": "2020-05-04T23:24:43.479885Z"
    }
   },
   "outputs": [],
   "source": [
    "for i in range(0, 7):\n",
    "    for j in range(0, 24):\n",
    "        # Set file path\n",
    "        tmpurl=f'file:///.../html_maps_pickup/{i}_{j}_heatmap.html'\n",
    "        \n",
    "        # Set browser to Chrome\n",
    "        browser = webdriver.Chrome()\n",
    "        \n",
    "        # Open file in browser\n",
    "        browser.get(tmpurl)\n",
    "        \n",
    "        # If hour is < 10, add 0 for sorting purposes and to keep chronological order\n",
    "        if j < 10:\n",
    "            browser.save_screenshot(f'./maps_png_pickup/{i}_0{j}_heatmap.png')\n",
    "        else:\n",
    "            browser.save_screenshot(f'./maps_png_pickup/{i}_{j}_heatmap.png')\n",
    "        \n",
    "        # Close browser\n",
    "        browser.quit()"
   ]
  },
  {
   "cell_type": "markdown",
   "metadata": {},
   "source": [
    "## Create Animated .gif file"
   ]
  },
  {
   "cell_type": "code",
   "execution_count": 296,
   "metadata": {
    "ExecuteTime": {
     "end_time": "2020-05-04T23:45:20.299430Z",
     "start_time": "2020-05-04T23:45:20.293719Z"
    }
   },
   "outputs": [],
   "source": [
    "def png_to_gif(path_to_images, save_file_path, duration=500):\n",
    "    frames = []\n",
    "    \n",
    "    # Retrieve image files\n",
    "    images = glob.glob(f'{path_to_images}')\n",
    "    \n",
    "    # Loop through image files to open, resize them and append them to frames\n",
    "    for i in sorted(images): \n",
    "        im = Image.open(i)\n",
    "        im = im.resize((550,389),Image.ANTIALIAS)\n",
    "        frames.append(im.copy())\n",
    "        \n",
    "    # Save frames/ stitched images as .gif\n",
    "    frames[0].save(f'{save_file_path}', format='GIF', append_images=frames[1:], save_all=True,\n",
    "                   duration=duration, loop=0)"
   ]
  },
  {
   "cell_type": "code",
   "execution_count": null,
   "metadata": {},
   "outputs": [],
   "source": [
    "png_to_gif(path_to_images='./maps_png_pickup/*.png', \n",
    "           save_file_path='./plots/pickup_heatmap.gif',\n",
    "           duration=500)"
   ]
  }
 ],
 "metadata": {
  "kernelspec": {
   "display_name": "Python 3",
   "language": "python",
   "name": "python3"
  },
  "language_info": {
   "codemirror_mode": {
    "name": "ipython",
    "version": 3
   },
   "file_extension": ".py",
   "mimetype": "text/x-python",
   "name": "python",
   "nbconvert_exporter": "python",
   "pygments_lexer": "ipython3",
   "version": "3.7.2"
  },
  "nbTranslate": {
   "displayLangs": [
    "*"
   ],
   "hotkey": "alt-t",
   "langInMainMenu": true,
   "sourceLang": "en",
   "targetLang": "fr",
   "useGoogleTranslate": true
  },
  "toc": {
   "base_numbering": 1,
   "nav_menu": {},
   "number_sections": true,
   "sideBar": true,
   "skip_h1_title": false,
   "title_cell": "Table of Contents",
   "title_sidebar": "Contents",
   "toc_cell": false,
   "toc_position": {},
   "toc_section_display": true,
   "toc_window_display": true
  },
  "varInspector": {
   "cols": {
    "lenName": 16,
    "lenType": 16,
    "lenVar": 40
   },
   "kernels_config": {
    "python": {
     "delete_cmd_postfix": "",
     "delete_cmd_prefix": "del ",
     "library": "var_list.py",
     "varRefreshCmd": "print(var_dic_list())"
    },
    "r": {
     "delete_cmd_postfix": ") ",
     "delete_cmd_prefix": "rm(",
     "library": "var_list.r",
     "varRefreshCmd": "cat(var_dic_list()) "
    }
   },
   "types_to_exclude": [
    "module",
    "function",
    "builtin_function_or_method",
    "instance",
    "_Feature"
   ],
   "window_display": false
  }
 },
 "nbformat": 4,
 "nbformat_minor": 4
}
